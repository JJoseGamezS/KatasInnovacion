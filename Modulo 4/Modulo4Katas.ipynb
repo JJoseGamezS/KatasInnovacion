{
 "cells": [
  {
   "cell_type": "code",
   "execution_count": 22,
   "metadata": {},
   "outputs": [],
   "source": [
    "text = \"\"\"Interesting facts about the Moon. The Moon is Earth's only satellite. There are several interesting facts about the Moon and how it affects life here on Earth. On average, the Moon moves 4cm away from the Earth every year. This yearly drift is not significant enough to cause immediate effects on Earth. The highest daylight temperature of the Moon is 127 C.\"\"\"\n",
    "textb = text.split('. ')"
   ]
  },
  {
   "cell_type": "code",
   "execution_count": 23,
   "metadata": {},
   "outputs": [],
   "source": [
    "palabras = ['average','temperature','distance']"
   ]
  },
  {
   "cell_type": "code",
   "execution_count": 24,
   "metadata": {},
   "outputs": [
    {
     "name": "stdout",
     "output_type": "stream",
     "text": [
      "On average, the Moon moves 4cm away from the Earth every year\n",
      "The highest daylight temperature of the Moon is 127 C.\n"
     ]
    }
   ],
   "source": [
    "for i in textb:\n",
    "    for j in palabras:\n",
    "        if j in i:\n",
    "            print(i)"
   ]
  },
  {
   "cell_type": "code",
   "execution_count": 32,
   "metadata": {},
   "outputs": [
    {
     "name": "stdout",
     "output_type": "stream",
     "text": [
      "Interesting facts about the Moon\n",
      "The Moon is Earth's only satellite\n",
      "There are several interesting facts about the Moon and how it affects life here on Earth\n",
      "On average, the Moon moves 4cm away from the Earth every year\n",
      "This yearly drift is not significant enough to cause immediate effects on Earth\n",
      "The highest daylight temperature of the Moon is 127  Celsius.\n"
     ]
    }
   ],
   "source": [
    "for i in textb:\n",
    "    print(i.replace('C',' Celsius'))"
   ]
  },
  {
   "cell_type": "markdown",
   "metadata": {},
   "source": [
    "# Ejercicio 2: Formateando Cadenas"
   ]
  },
  {
   "cell_type": "code",
   "execution_count": 69,
   "metadata": {},
   "outputs": [
    {
     "name": "stdout",
     "output_type": "stream",
     "text": [
      "2\n"
     ]
    }
   ],
   "source": [
    "# Datos con los que vas a trabajar\n",
    "name = [\"Moon\", \"Genamides\"]\n",
    "gravity = [0.00162, 0.00143] # in kms\n",
    "planet = [\"Earth\", \"Marte\"]\n",
    "\n",
    "print(len(name))"
   ]
  },
  {
   "cell_type": "code",
   "execution_count": 67,
   "metadata": {},
   "outputs": [],
   "source": [
    "titulo = '\\nInformacion sobre la gravedad en '"
   ]
  },
  {
   "cell_type": "code",
   "execution_count": 54,
   "metadata": {},
   "outputs": [],
   "source": [
    "plantilla = ['Nombre del planeta: ', 'Gravedad en ', ': ', ' m/s2']"
   ]
  },
  {
   "cell_type": "code",
   "execution_count": 68,
   "metadata": {},
   "outputs": [
    {
     "name": "stdout",
     "output_type": "stream",
     "text": [
      "\n",
      "Informacion sobre la gravedad en Moon\n",
      "----------------------------------------\n",
      "Nombre del planeta: Earth\n",
      "Gravedad en Moon: 1.6199999999999999 m/s2\n",
      "\n",
      "Informacion sobre la gravedad en Marte\n",
      "----------------------------------------\n",
      "Nombre del planeta: Ganimedes\n",
      "Gravedad en Marte: 1.4300000000000002 m/s2\n"
     ]
    }
   ],
   "source": [
    "for i in range(len(name)):\n",
    "    print(titulo + name[i])\n",
    "    for j in range(40):\n",
    "        print('-', end=\"\")\n",
    "    print(\"\\n\" + plantilla[0] + planet[i])\n",
    "    print(plantilla[1] + name[i] + plantilla[2] + str(gravity[i]*1000) + plantilla[3])"
   ]
  }
 ],
 "metadata": {
  "interpreter": {
   "hash": "38740d3277777e2cd7c6c2cc9d8addf5118fdf3f82b1b39231fd12aeac8aee8b"
  },
  "kernelspec": {
   "display_name": "Python 3.10.2 64-bit",
   "language": "python",
   "name": "python3"
  },
  "language_info": {
   "codemirror_mode": {
    "name": "ipython",
    "version": 3
   },
   "file_extension": ".py",
   "mimetype": "text/x-python",
   "name": "python",
   "nbconvert_exporter": "python",
   "pygments_lexer": "ipython3",
   "version": "3.10.2"
  },
  "orig_nbformat": 4
 },
 "nbformat": 4,
 "nbformat_minor": 2
}
