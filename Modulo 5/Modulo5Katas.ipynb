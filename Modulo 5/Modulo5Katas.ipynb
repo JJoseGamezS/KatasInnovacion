{
 "cells": [
  {
   "cell_type": "code",
   "execution_count": 1,
   "metadata": {},
   "outputs": [],
   "source": [
    "dtierra = 149597870\n",
    "djupiter = 778547200"
   ]
  },
  {
   "cell_type": "code",
   "execution_count": 7,
   "metadata": {},
   "outputs": [],
   "source": [
    "dkilometros = abs(dtierra - djupiter)\n",
    "dmillas = dkilometros * 0.621"
   ]
  },
  {
   "cell_type": "code",
   "execution_count": 8,
   "metadata": {},
   "outputs": [
    {
     "name": "stdout",
     "output_type": "stream",
     "text": [
      "Distancia en kilometros: 628949330\n",
      "Distancia en millas: 390577533.93\n"
     ]
    }
   ],
   "source": [
    "print(\"Distancia en kilometros: \" + str(dkilometros))\n",
    "print(\"Distancia en millas: \" + str(dmillas))"
   ]
  },
  {
   "cell_type": "markdown",
   "metadata": {},
   "source": [
    "Ejerciio 2: Convierte cadenas en numeros y usa valores absulutos"
   ]
  },
  {
   "cell_type": "code",
   "execution_count": 11,
   "metadata": {},
   "outputs": [
    {
     "name": "stdout",
     "output_type": "stream",
     "text": [
      "Distancia en kilometros: 628949330\n",
      "Distancia en millas: 390577533.93\n"
     ]
    }
   ],
   "source": [
    "duno = int(input(\"Dame la distancia del planeta uno: \"))\n",
    "ddos = int(input(\"Dame la distancia del planeta dos: \"))\n",
    "\n",
    "dkilometros = abs(duno - ddos)\n",
    "dmillas = dkilometros * 0.621\n",
    "\n",
    "print(\"Distancia en kilometros: \" + str(dkilometros))\n",
    "print(\"Distancia en millas: \" + str(dmillas))"
   ]
  }
 ],
 "metadata": {
  "interpreter": {
   "hash": "38740d3277777e2cd7c6c2cc9d8addf5118fdf3f82b1b39231fd12aeac8aee8b"
  },
  "kernelspec": {
   "display_name": "Python 3.10.2 64-bit",
   "language": "python",
   "name": "python3"
  },
  "language_info": {
   "codemirror_mode": {
    "name": "ipython",
    "version": 3
   },
   "file_extension": ".py",
   "mimetype": "text/x-python",
   "name": "python",
   "nbconvert_exporter": "python",
   "pygments_lexer": "ipython3",
   "version": "3.10.2"
  },
  "orig_nbformat": 4
 },
 "nbformat": 4,
 "nbformat_minor": 2
}
