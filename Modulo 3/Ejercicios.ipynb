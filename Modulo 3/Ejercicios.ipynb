{
 "cells": [
  {
   "cell_type": "markdown",
   "metadata": {},
   "source": [
    "Documentacion"
   ]
  },
  {
   "cell_type": "code",
   "execution_count": 10,
   "metadata": {},
   "outputs": [
    {
     "name": "stdout",
     "output_type": "stream",
     "text": [
      "Verificando combustible\n",
      "...\n",
      "...\n",
      "...\n",
      "la nave tiene 680 unidades de combustible\n",
      "Sin combustible necesario para el salto\n"
     ]
    }
   ],
   "source": [
    "#Se necesitan 550 unidades de combustible para hacer un viaje de 1.0 parsec \n",
    "\n",
    "combustible = 680\n",
    "distancia = 1.3\n",
    "print(\"Verificando combustible\")\n",
    "for i in range(3):\n",
    "    print(\"...\")\n",
    "\n",
    "if combustible > 0:\n",
    "    print(\"la nave tiene \" + str(combustible) + \" unidades de combustible\")\n",
    "    if distancia*550 < combustible:\n",
    "        print(\"Iniciando  salto...\")\n",
    "    elif distancia*550 == combustible:\n",
    "        print(\"Contamos con el combustible necesario para el salto, pero nos quedaremos sin combustible al llegar\") \n",
    "    else:\n",
    "        print(\"Sin combustible necesario para el salto\")\n",
    "else:\n",
    "    print(\"Sin combustible\")"
   ]
  },
  {
   "cell_type": "markdown",
   "metadata": {},
   "source": [
    "# Problema no 1"
   ]
  },
  {
   "cell_type": "code",
   "execution_count": 11,
   "metadata": {},
   "outputs": [
    {
     "name": "stdout",
     "output_type": "stream",
     "text": [
      "Advertencia asteroide viajando a 49km/s\n"
     ]
    }
   ],
   "source": [
    "velocidad = 49\n",
    "if velocidad > 25:\n",
    "    print(\"Advertencia asteroide viajando a \" + str(velocidad) + \"km/s\")\n",
    "else:\n",
    "    print(\"No hay riesgo el asteroide viaja a \" + str(velocidad) + \"km/s\")"
   ]
  },
  {
   "cell_type": "markdown",
   "metadata": {},
   "source": [
    "# Problema no 2"
   ]
  },
  {
   "cell_type": "code",
   "execution_count": 16,
   "metadata": {},
   "outputs": [
    {
     "name": "stdout",
     "output_type": "stream",
     "text": [
      "Corre!!!\n"
     ]
    }
   ],
   "source": [
    "velocidad = 19\n",
    "#vision = input(\"¿Puedes ver el rayo de luz del asteroide? \")\n",
    "vision = \"si\"\n",
    "#vision = \"no\"\n",
    "\n",
    "if velocidad >= 20:\n",
    "    if vision == \"si\":\n",
    "        print(\"Corre!!!\")\n",
    "    elif vision ==\"no\":\n",
    "        print(\"¿No?\")\n",
    "else:\n",
    "    print(\"El asteroide viaja muy lento\")"
   ]
  },
  {
   "cell_type": "markdown",
   "metadata": {},
   "source": [
    "# Problema no 3"
   ]
  },
  {
   "cell_type": "code",
   "execution_count": 18,
   "metadata": {},
   "outputs": [
    {
     "name": "stdout",
     "output_type": "stream",
     "text": [
      "No pues ya fue... unu\n"
     ]
    }
   ],
   "source": [
    "velocidad = 25\n",
    "tamano = 40\n",
    "if velocidad >= 25 and tamano >= 40:\n",
    "    print(\"No pues ya fue... unu\")\n",
    "elif velocidad >= 25 and tamano <40:\n",
    "    print(\"osea rapido si va, pero grande no esta\")\n",
    "elif velocidad < 25 and tamano >=40:\n",
    "    print(\"Tendremos un ascenso lento pero seguro al reino de los cielos unu\")"
   ]
  }
 ],
 "metadata": {
  "interpreter": {
   "hash": "38740d3277777e2cd7c6c2cc9d8addf5118fdf3f82b1b39231fd12aeac8aee8b"
  },
  "kernelspec": {
   "display_name": "Python 3.10.2 64-bit",
   "language": "python",
   "name": "python3"
  },
  "language_info": {
   "codemirror_mode": {
    "name": "ipython",
    "version": 3
   },
   "file_extension": ".py",
   "mimetype": "text/x-python",
   "name": "python",
   "nbconvert_exporter": "python",
   "pygments_lexer": "ipython3",
   "version": "3.10.2"
  },
  "orig_nbformat": 4
 },
 "nbformat": 4,
 "nbformat_minor": 2
}
